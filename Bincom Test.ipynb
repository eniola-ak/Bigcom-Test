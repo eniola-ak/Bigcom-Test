{
 "cells": [
  {
   "cell_type": "code",
   "execution_count": 49,
   "id": "f5fa6be5",
   "metadata": {},
   "outputs": [
    {
     "name": "stdout",
     "output_type": "stream",
     "text": [
      "0\n",
      "1\n",
      "1\n",
      "2\n",
      "3\n",
      "5\n",
      "8\n",
      "13\n",
      "21\n",
      "34\n",
      "55\n",
      "89\n",
      "144\n",
      "233\n",
      "377\n",
      "610\n",
      "987\n",
      "1597\n",
      "2584\n",
      "4181\n",
      "6765\n",
      "10946\n",
      "17711\n",
      "28657\n",
      "46368\n",
      "75025\n",
      "121393\n",
      "196418\n",
      "317811\n",
      "514229\n",
      "832040\n",
      "1346269\n",
      "2178309\n",
      "3524578\n",
      "5702887\n",
      "9227465\n",
      "14930352\n",
      "24157817\n",
      "39088169\n",
      "63245986\n",
      "102334155\n",
      "165580141\n",
      "267914296\n",
      "433494437\n",
      "701408733\n",
      "1134903170\n",
      "1836311903\n",
      "2971215073\n",
      "4807526976\n",
      "7778742049\n",
      "None\n"
     ]
    }
   ],
   "source": [
    "#Fibonacci using defining a function \n",
    "def howmany(n):\n",
    "    n1, n2 = 0, 1\n",
    "    count = 0\n",
    "\n",
    "    if n <= 0:\n",
    "        print(\"Enter a positive integer\")\n",
    "    elif n == 1:\n",
    "        print(n1)\n",
    "    else:\n",
    "        while count < n:\n",
    "            print(n1)\n",
    "            nth = n1 + n2\n",
    "            n1 = n2\n",
    "            n2 = nth\n",
    "            count += 1\n",
    "print (howmany(50))"
   ]
  },
  {
   "cell_type": "code",
   "execution_count": 57,
   "id": "9a5e07fb",
   "metadata": {},
   "outputs": [
    {
     "data": {
      "text/plain": [
       "'BLUE'"
      ]
     },
     "execution_count": 57,
     "metadata": {},
     "output_type": "execute_result"
    }
   ],
   "source": [
    "#Created a List of all the colours \n",
    "import statistics\n",
    "from statistics import mode\n",
    "from statistics import mean\n",
    "from statistics import median\n",
    "bincomShirt=[\"GREEN\",\"YELLOW\",\"GREEN\",\"BROWN\",\"BLUE\",\"PINK\",\"BLUE\",\"YELLOW\",\"ORANGE\",\"CREAM\",\"ORANGE\",\"RED\",\"WHITE\",\"BLUE\",\"WHITE\",\"BLUE\",\"BLUE\",\"BLUE\",\"GREEN\",\"ARSH\",\"BROWN\",\"GREEN\",\"BROWN\",\"BLUE\",\"BLUE\",\"BLEW\",\"PINK\",\"PINK\",\"ORANGE\",\"ORANGE\",\"RED\",\"WHITE\",\"BLUE\",\"WHITE\",\"WHITE\",\"BLUE\",\"BLUE\",\"BLUE\",\"GREEN\",\"YELLOW\",\"GREEN\",\"BROWN\",\"BLUE\",\"PINK\",\"RED\",\"YELLOW\",\"ORANGE\",\"RED\",\"ORANGE\",\"RED\",\"BLUE\",\"BLUE\",\"WHITE\",\"BLUE\",\"BLUE\",\"WHITE\",\"WHITE\",\"BLUE\",\"BLUE\",\"GREEN\",\"WHITE\",\"BLUE\",\"BROWN\",\"PINK\",\"YELLOW\",\"ORANGE\",\"CREAM\",\"ORANGE\",\"RED\",\"WHITE\",\"BLUE\",\"WHITE\",\"BLUE\",\"BLUE\",\"BLUE\",\"GREEN\",\"GREEN\",\"WHITE\",\"GREEN\",\"BROWN\",\"BLUE\",\"BLUE\",\"BLACK\",\"WHITE\",\"ORANGE\",\"RED\",\"RED\",\"RED\",\"WHITE\",\"BLUE\",\"WHITE\",\"BLUE\",\"BLUE\",\"BLUE\",\"WHITE\"]\n",
    "statistics.mode(bincomShirt)"
   ]
  },
  {
   "cell_type": "code",
   "execution_count": 58,
   "id": "7ccc17b7",
   "metadata": {},
   "outputs": [
    {
     "data": {
      "text/plain": [
       "'GREEN'"
      ]
     },
     "execution_count": 58,
     "metadata": {},
     "output_type": "execute_result"
    }
   ],
   "source": [
    "statistics.median(bincomShirt)"
   ]
  },
  {
   "cell_type": "code",
   "execution_count": 59,
   "id": "4ae93745",
   "metadata": {},
   "outputs": [
    {
     "name": "stdout",
     "output_type": "stream",
     "text": [
      "The probability of selecting red is 0.09473684210526316\n"
     ]
    }
   ],
   "source": [
    "#probability of selecting red \n",
    "print(\"The probability of selecting red is\",(bincomShirt.count(\"RED\"))/len(bincomShirt))"
   ]
  },
  {
   "cell_type": "code",
   "execution_count": 60,
   "id": "fbeeb056",
   "metadata": {},
   "outputs": [
    {
     "name": "stdout",
     "output_type": "stream",
     "text": [
      "1011 11\n"
     ]
    }
   ],
   "source": [
    "# Function to generate a random binary string of length N\n",
    "import random\n",
    "def findRandomB():\n",
    "    num = random.randint(0, 1)\n",
    "    return num\n",
    "def generateBinaryString(N):\n",
    "    S = \"\"\n",
    "    for i in range(N):\n",
    "        x = findRandomB()\n",
    "        S += str(x)\n",
    "    print(S,int(S,2))\n",
    " \n",
    "# Driver Code\n",
    "N = 4\n",
    "generateBinaryString(N)"
   ]
  },
  {
   "cell_type": "code",
   "execution_count": 61,
   "id": "cc94e079",
   "metadata": {},
   "outputs": [
    {
     "name": "stdout",
     "output_type": "stream",
     "text": [
      "Element is present at index 2\n"
     ]
    }
   ],
   "source": [
    "def recSearch(arr, low, high, x):\n",
    "    if high >= low:\n",
    "        mid = (high + low) // 2\n",
    "        if arr[mid] == x:\n",
    "            return mid\n",
    "        elif arr[mid] > x:\n",
    "            return recSearch(arr, low, mid - 1, x)\n",
    "        else:\n",
    "            return recSearch(arr, mid + 1, high, x)\n",
    "    else:\n",
    "        return -1\n",
    " \n",
    "# Test array\n",
    "arr = [ 56, 36, 47, 19, 90 ]\n",
    "x = 47\n",
    "result = recSearch(arr, 0, len(arr)-1, x)\n",
    " \n",
    "if result != -1:\n",
    "    print(\"Element is present at index\", str(result))\n",
    "else:\n",
    "    print(\"Element is not present in array\")"
   ]
  },
  {
   "cell_type": "code",
   "execution_count": null,
   "id": "d50518be",
   "metadata": {},
   "outputs": [],
   "source": []
  }
 ],
 "metadata": {
  "kernelspec": {
   "display_name": "Python 3 (ipykernel)",
   "language": "python",
   "name": "python3"
  },
  "language_info": {
   "codemirror_mode": {
    "name": "ipython",
    "version": 3
   },
   "file_extension": ".py",
   "mimetype": "text/x-python",
   "name": "python",
   "nbconvert_exporter": "python",
   "pygments_lexer": "ipython3",
   "version": "3.9.7"
  }
 },
 "nbformat": 4,
 "nbformat_minor": 5
}
